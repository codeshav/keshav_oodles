{
 "cells": [
  {
   "cell_type": "code",
   "execution_count": 50,
   "metadata": {},
   "outputs": [
    {
     "name": "stdout",
     "output_type": "stream",
     "text": [
      "Saving to location: C:\\Users\\kesha\\oodles\\examples\\cyber_attack_classification/data/NSL-KDD\n"
     ]
    },
    {
     "name": "stderr",
     "output_type": "stream",
     "text": [
      "C:\\Users\\kesha\\AppData\\Roaming\\Python\\Python38\\site-packages\\pandas\\core\\computation\\expressions.py:20: UserWarning: Pandas requires version '2.7.3' or newer of 'numexpr' (version '2.7.1' currently installed).\n",
      "  from pandas.core.computation.check import NUMEXPR_INSTALLED\n",
      "preprocess_data.py:68: SettingWithCopyWarning: \n",
      "A value is trying to be set on a copy of a slice from a DataFrame\n",
      "\n",
      "See the caveats in the documentation: https://pandas.pydata.org/pandas-docs/stable/user_guide/indexing.html#returning-a-view-versus-a-copy\n",
      "  df1[\"label\"][df1[\"label\"] == \"normal\"] = 0\n",
      "preprocess_data.py:69: SettingWithCopyWarning: \n",
      "A value is trying to be set on a copy of a slice from a DataFrame\n",
      "\n",
      "See the caveats in the documentation: https://pandas.pydata.org/pandas-docs/stable/user_guide/indexing.html#returning-a-view-versus-a-copy\n",
      "  df1[\"label\"][df1[\"label\"] != 0] = 1\n",
      "preprocess_data.py:70: SettingWithCopyWarning: \n",
      "A value is trying to be set on a copy of a slice from a DataFrame\n",
      "\n",
      "See the caveats in the documentation: https://pandas.pydata.org/pandas-docs/stable/user_guide/indexing.html#returning-a-view-versus-a-copy\n",
      "  df2[\"label\"][df2[\"label\"] == \"normal\"] = 0\n",
      "preprocess_data.py:71: SettingWithCopyWarning: \n",
      "A value is trying to be set on a copy of a slice from a DataFrame\n",
      "\n",
      "See the caveats in the documentation: https://pandas.pydata.org/pandas-docs/stable/user_guide/indexing.html#returning-a-view-versus-a-copy\n",
      "  df2[\"label\"][df2[\"label\"] != 0] = 1\n",
      "preprocess_data.py:86: FutureWarning: In a future version, `df.iloc[:, i] = newvals` will attempt to set the values inplace instead of always setting a new array. To retain the old behavior, use either `df[df.columns[i]] = newvals` or, if columns are non-unique, `df.isetitem(i, newvals)`\n",
      "  df.iloc[:, i] = df.apply(\n",
      "preprocess_data.py:94: FutureWarning: The frame.append method is deprecated and will be removed from pandas in a future version. Use pandas.concat instead.\n",
      "  df = df1.append(df2)\n"
     ]
    }
   ],
   "source": [
    "! python preprocess_data.py"
   ]
  },
  {
   "cell_type": "code",
   "execution_count": 51,
   "metadata": {},
   "outputs": [],
   "source": [
    "import numpy as np\n",
    "import pandas as pd\n",
    "import seaborn as sns\n",
    "import matplotlib.pyplot as plt\n",
    "from xgboost import XGBClassifier\n",
    "import time\n",
    "from sklearn.model_selection import train_test_split\n",
    "from sklearn.metrics import classification_report,confusion_matrix,accuracy_score\n",
    "\n",
    "from oodles import Framework, monitor, Anomaly, DataDrift"
   ]
  },
  {
   "cell_type": "code",
   "execution_count": 52,
   "metadata": {},
   "outputs": [],
   "source": [
    "#Read the training and test set\n",
    "df = pd.read_csv(\"data/NSL-KDD/binary_train_test.csv\")\n",
    "X = df.iloc[:, :-1].values\n",
    "y = df.iloc[:, -1].values"
   ]
  },
  {
   "cell_type": "code",
   "execution_count": 53,
   "metadata": {},
   "outputs": [],
   "source": [
    "X_train, X_test, y_train, y_test = train_test_split(X, y, train_size = 0.1, \n",
    "                                                    test_size = 0.9, \n",
    "                                                    random_state = 0,\n",
    "                                                    shuffle=False)"
   ]
  },
  {
   "cell_type": "code",
   "execution_count": 54,
   "metadata": {},
   "outputs": [
    {
     "data": {
      "text/plain": [
       "array([0, 1], dtype=int64)"
      ]
     },
     "execution_count": 54,
     "metadata": {},
     "output_type": "execute_result"
    }
   ],
   "source": [
    "np.unique(y_train)"
   ]
  },
  {
   "cell_type": "code",
   "execution_count": 55,
   "metadata": {},
   "outputs": [
    {
     "name": "stdout",
     "output_type": "stream",
     "text": [
      "              precision    recall  f1-score   support\n",
      "\n",
      "           0       0.94      0.99      0.96     69135\n",
      "           1       0.99      0.93      0.96     64531\n",
      "\n",
      "    accuracy                           0.96    133666\n",
      "   macro avg       0.96      0.96      0.96    133666\n",
      "weighted avg       0.96      0.96      0.96    133666\n",
      "\n",
      "Accuracy: 0.9616282375473194\n"
     ]
    },
    {
     "data": {
      "image/png": "[encoded data removed]",
      "text/plain": [
       "<Figure size 144x144 with 2 Axes>"
      ]
     },
     "metadata": {
      "needs_background": "light"
     },
     "output_type": "display_data"
    }
   ],
   "source": [
    "# Xgboost algorithm\n",
    "classifier = XGBClassifier()\n",
    "classifier.fit(X_train, y_train)\n",
    "y_pred = classifier.predict(X_test)\n",
    "print(classification_report(y_test,y_pred))\n",
    "print(\"Accuracy: \" + str(accuracy_score(y_test, y_pred)))\n",
    "\n",
    "# Plot the confusion matrix\n",
    "cm=confusion_matrix(y_test,y_pred)\n",
    "f,ax=plt.subplots(figsize=(2,2))\n",
    "sns.heatmap(cm,annot=True,linewidth=0.5,linecolor=\"red\",fmt=\".0f\",ax=ax)\n",
    "plt.xlabel(\"y_pred\")\n",
    "plt.ylabel(\"y_true\")\n",
    "plt.show()"
   ]
  },
  {
   "cell_type": "markdown",
   "metadata": {},
   "source": [
    "#### Define a Custom Drift Monitor"
   ]
  },
  {
   "cell_type": "code",
   "execution_count": 56,
   "metadata": {},
   "outputs": [],
   "source": [
    "def check_concept_drift(inputs, outputs):\n",
    "    \"\"\"\n",
    "    Defining a custom drift metric where\n",
    "    the user just want to check if accuracy \n",
    "    drops beyond a threshold.\n",
    "    \"\"\"\n",
    "    if \"y_test\" in inputs.keys():\n",
    "        y_gt = inputs[\"y_test\"]\n",
    "        y_pred = outputs\n",
    "        window_size = inputs.get('window_size', 200)\n",
    "        thres = inputs.get('thres', 0.02)\n",
    "\n",
    "        acc_arr = np.cumsum(y_pred==y_test)/np.arange(1,len(y_pred)+1)\n",
    "        \n",
    "        initial_acc = sum(acc_arr[0:window_size])/window_size\n",
    "        \n",
    "        for i in range(window_size, len(acc_arr)):\n",
    "            recent_acc = sum(acc_arr[i: i+window_size])/window_size\n",
    "            if initial_acc - recent_acc > thres:\n",
    "                print(\"Concept drift detected with custom metric at time: \", i)\n",
    "                break"
   ]
  },
  {
   "cell_type": "markdown",
   "metadata": {},
   "source": [
    "#### Define Prediction Function"
   ]
  },
  {
   "cell_type": "code",
   "execution_count": 57,
   "metadata": {},
   "outputs": [],
   "source": [
    "cfg = {\n",
    "    # Define your metrics to identify data drifts\n",
    "    \"checks\": [\n",
    "        {\n",
    "        'type': Anomaly.DATA_DRIFT,\n",
    "        'algorithm': DataDrift.DDM,\n",
    "        'warn_thres': 2,\n",
    "        'alarm_thres': 3,\n",
    "        },\n",
    "        {\n",
    "        'type': Anomaly.CUSTOM_MONITOR,\n",
    "        'algorithm': check_concept_drift,\n",
    "        'thres': 0.01,\n",
    "        'window_size': 100,\n",
    "        },\n",
    "    ], \n",
    "    # Attach the training arguments\n",
    "    \"training_args\": {\n",
    "        \"fold_name\": 'oodles_smart_data', \n",
    "    }\n",
    "}\n",
    "        \n",
    "framework = Framework(cfg)\n",
    "\n",
    "@monitor(framework)\n",
    "def model_predict(args):\n",
    "    return args['model'].predict(args['X_test'])"
   ]
  },
  {
   "cell_type": "markdown",
   "metadata": {},
   "source": [
    "#### Check for Data Drift with DDM"
   ]
  },
  {
   "cell_type": "code",
   "execution_count": 58,
   "metadata": {},
   "outputs": [
    {
     "name": "stdout",
     "output_type": "stream",
     "text": [
      "Data drift detected with DDM at time:  111323\n",
      "Concept drift detected with custom metric at time:  121404\n"
     ]
    }
   ],
   "source": [
    "inputs = {'y_test': y_test, 'model': classifier, 'X_test': X_test}\n",
    "y_pred = model_predict(inputs)"
   ]
  },
  {
   "cell_type": "markdown",
   "metadata": {},
   "source": [
    "#### Plotting observed accuracy with time to check location of drifts"
   ]
  },
  {
   "cell_type": "code",
   "execution_count": 59,
   "metadata": {},
   "outputs": [
    {
     "data": {
      "image/png": "[encoded data removed]",
      "text/plain": [
       "<Figure size 720x216 with 1 Axes>"
      ]
     },
     "metadata": {
      "needs_background": "light"
     },
     "output_type": "display_data"
    }
   ],
   "source": [
    "# Define accuracy over time\n",
    "acc = np.cumsum(y_pred==y_test)/np.arange(1,len(y_pred)+1)\n",
    "\n",
    "# Plot the accuracy changes\n",
    "plt.rcParams.update({'font.size': 10})\n",
    "plt.figure(1,figsize=(10,3)) \n",
    "plt.clf() \n",
    "plt.plot(acc,'-b',label='Accuracy')\n",
    "\n",
    "plt.legend(loc='best')\n",
    "plt.xlabel('Timestamp')\n",
    "plt.ylabel('Accuracy')\n",
    "\n",
    "plt.draw()"
   ]
  },
  {
   "cell_type": "markdown",
   "metadata": {},
   "source": [
    "From the above plot, we can observe a data drift around the timestamp of 111k."
   ]
  },
  {
   "cell_type": "code",
   "execution_count": null,
   "metadata": {},
   "outputs": [],
   "source": []
  }
 ],
 "metadata": {
  "kernelspec": {
   "display_name": "Python 3",
   "language": "python",
   "name": "python3"
  },
  "language_info": {
   "codemirror_mode": {
    "name": "ipython",
    "version": 3
   },
   "file_extension": ".py",
   "mimetype": "text/x-python",
   "name": "python",
   "nbconvert_exporter": "python",
   "pygments_lexer": "ipython3",
   "version": "3.8.3"
  }
 },
 "nbformat": 4,
 "nbformat_minor": 5
}
